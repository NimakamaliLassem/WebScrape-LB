{
 "cells": [
  {
   "cell_type": "code",
   "execution_count": null,
   "id": "a4fb09a3",
   "metadata": {},
   "outputs": [
    {
     "name": "stderr",
     "output_type": "stream",
     "text": [
      "C:\\Users\\22001471\\AppData\\Local\\Temp\\ipykernel_2596\\3101267469.py:18: DeprecationWarning: executable_path has been deprecated, please pass in a Service object\n",
      "  driver = webdriver.Chrome(executable_path=\"C:\\\\Users\\\\22001471\\\\Python\\\\Python310\\\\chromedriver.exe\")\n"
     ]
    }
   ],
   "source": [
    "import time\n",
    "\n",
    "start_time = time.time()\n",
    "import sys\n",
    "\n",
    "# sys.path.append('/usr/lib/python3/dist-packages/beautifulsoup4')\n",
    "import requests\n",
    "from bs4 import BeautifulSoup\n",
    "from multiprocessing import Pool\n",
    "import numpy as np\n",
    "\n",
    "from selenium import webdriver\n",
    "from selenium.webdriver.common.by import By\n",
    "\n",
    "\n",
    "\n",
    "#set chromodriver.exe path\n",
    "driver = webdriver.Chrome(executable_path=\"C:\\\\Users\\\\22001471\\\\Python\\\\Python310\\\\chromedriver.exe\")\n",
    "#implicit wait\n",
    "driver.implicitly_wait(0.5)\n",
    "#maximize browser\n",
    "driver.maximize_window()\n",
    "#launch URL\n",
    "driver.get(' https://legalbank.net/arama/mahkeme-kararlari')\n",
    "#identify element\n",
    "\n",
    "\n",
    "def next_page():\n",
    "    element = driver.find_element(By.XPATH,'//*[@id=\"content_content_pgr_btnPagerNext\"]')\n",
    "    driver.execute_script(\"arguments[0].scrollIntoView();\", element)\n",
    "    driver.find_element(By.XPATH,'//*[@id=\"content_content_pgr_btnPagerNext\"]').click();\n",
    "    content = driver.page_source\n",
    "    soup = BeautifulSoup(content, 'lxml')\n",
    "    return soup\n",
    "def next_page_20():\n",
    "    element = driver.find_element(By.XPATH,'//*[@id=\"content_content_pgr_btnPagerNext\"]')\n",
    "    driver.execute_script(\"arguments[0].scrollIntoView();\", element)\n",
    "    driver.find_element(By.XPATH,'//*[@id=\"content_content_pgr_btnPage8\"]').click();\n",
    "    content = driver.page_source\n",
    "    soup = BeautifulSoup(content, 'lxml')\n",
    "    return soup\n",
    "\n",
    "def next_page_10():\n",
    "    element = driver.find_element(By.XPATH,'//*[@id=\"content_content_pgr_btnPagerNext\"]')\n",
    "    driver.execute_script(\"arguments[0].scrollIntoView();\", element)\n",
    "    driver.find_element(By.XPATH,'//*[@id=\"content_content_pgr_btnPage7\"]').click();\n",
    "    content = driver.page_source\n",
    "    soup = BeautifulSoup(content, 'lxml')\n",
    "    return soup\n",
    "\n",
    "def get_data(links, num):\n",
    "    cnt=0\n",
    "    for link in links:\n",
    "        html_text = requests.get(link).content.decode('utf-8')\n",
    "        text = BeautifulSoup(html_text, 'lxml')\n",
    "        try:\n",
    "            res = text.find('div', class_='belge').text\n",
    "        except:\n",
    "            res = 'NO BELGE'\n",
    "        last_char = str(num)+ str(cnt)+ \".txt\"\n",
    "        print(last_char)\n",
    "        # print('Last character : ', last_char)\n",
    "        with open(last_char, \"w\") as file:\n",
    "            file.write(str(res))\n",
    "            file.close()\n",
    "        cnt = cnt+1\n",
    "        # except IOError:\n",
    "        #     print(last_char)\n",
    "\n",
    "\n",
    "content = requests.get(' https://legalbank.net/arama/mahkeme-kararlari').content\n",
    "soup = BeautifulSoup(content, 'lxml')\n",
    "results = soup.find_all('div', class_='result')\n",
    "result_a = []\n",
    "links_list = []\n",
    "# for result in results:\n",
    "#     result_a.append(list(result.a.attrs.values())[0])\n",
    "# for each in result_a:\n",
    "#     links_list.append(f'{\"https://legalbank.net/\"}{each}')\n",
    "\n",
    "# sub_lists = np.array_split(links_list, 2)\n",
    "\n",
    "# pool = Pool()\n",
    "# result1 = pool.apply_async(get_data, [sub_lists[0]])\n",
    "# result2 = pool.apply_async(get_data, [sub_lists[1]])\n",
    "# answer1 = result1.get()\n",
    "# answer2 = result2.get()\n",
    "get_data(links_list, 1)\n",
    "x = 9803\n",
    "y = int(x/20)\n",
    "z = int((x - y*20) / 10)\n",
    "m = x - y*20 - z*10\n",
    "for i in range (0,y):\n",
    "    next_page_20()\n",
    "for i in range (0, z):\n",
    "    next_page_10()\n",
    "for i in range (1, m):\n",
    "    next_page()\n",
    "\n",
    "print(\"--- %s seconds ---\" % (time.time() - start_time))\n",
    "for i in range(x, 261812):\n",
    "    soup = next_page()\n",
    "    results = soup.find_all('div', class_='result')\n",
    "    result_a = []\n",
    "    links_list = []\n",
    "    for result in results:\n",
    "        result_a.append(list(result.a.attrs.values())[0])\n",
    "    for each in result_a:\n",
    "        links_list.append(f'{\"https://legalbank.net/\"}{each}')\n",
    "\n",
    "    # sub_lists = np.array_split(links_list, 2)\n",
    "\n",
    "    # pool = Pool()\n",
    "    # result1 = pool.apply_async(get_data, [sub_lists[0], i])\n",
    "    # result2 = pool.apply_async(get_data, [sub_lists[1], i])\n",
    "    # answer1 = result1.get()\n",
    "    # answer2 = result2.get()\n",
    "\n",
    "\n",
    "    get_data(links_list, i)\n",
    "\n",
    "    print(\"--- %s seconds ---\" % (time.time() - start_time), \" COUNT=\", i)\n",
    "\n",
    "#close browser\n",
    "driver.quit()\n"
   ]
  },
  {
   "cell_type": "code",
   "execution_count": 1,
   "id": "60e85e55",
   "metadata": {},
   "outputs": [
    {
     "name": "stdout",
     "output_type": "stream",
     "text": [
      "Collecting numpyNote: you may need to restart the kernel to use updated packages.\n"
     ]
    },
    {
     "name": "stderr",
     "output_type": "stream",
     "text": [
      "  WARNING: The script f2py.exe is installed in 'C:\\Users\\22001471\\Python\\Python310\\Scripts' which is not on PATH.\n",
      "  Consider adding this directory to PATH or, if you prefer to suppress this warning, use --no-warn-script-location.\n"
     ]
    },
    {
     "name": "stdout",
     "output_type": "stream",
     "text": [
      "\n",
      "  Downloading numpy-1.23.2-cp310-cp310-win_amd64.whl (14.6 MB)\n",
      "     --------------------------------------- 14.6/14.6 MB 32.7 MB/s eta 0:00:00\n",
      "Installing collected packages: numpy\n",
      "Successfully installed numpy-1.23.2\n"
     ]
    }
   ],
   "source": [
    "pip install numpy"
   ]
  },
  {
   "cell_type": "code",
   "execution_count": 2,
   "id": "497ad045",
   "metadata": {},
   "outputs": [
    {
     "name": "stdout",
     "output_type": "stream",
     "text": [
      "Collecting selenium\n",
      "  Downloading selenium-4.4.0-py3-none-any.whl (985 kB)\n",
      "     -------------------------------------- 985.8/985.8 kB 2.5 MB/s eta 0:00:00\n",
      "Collecting urllib3[secure,socks]~=1.26\n",
      "  Downloading urllib3-1.26.11-py2.py3-none-any.whl (139 kB)\n",
      "     -------------------------------------- 139.9/139.9 kB 8.6 MB/s eta 0:00:00\n",
      "Collecting trio-websocket~=0.9\n",
      "  Downloading trio_websocket-0.9.2-py3-none-any.whl (16 kB)\n",
      "Collecting trio~=0.17\n",
      "  Downloading trio-0.21.0-py3-none-any.whl (358 kB)\n",
      "     ------------------------------------- 359.0/359.0 kB 21.8 MB/s eta 0:00:00\n",
      "Collecting idna\n",
      "  Downloading idna-3.3-py3-none-any.whl (61 kB)\n",
      "     ---------------------------------------- 61.2/61.2 kB 3.2 MB/s eta 0:00:00\n",
      "Collecting outcome\n",
      "  Downloading outcome-1.2.0-py2.py3-none-any.whl (9.7 kB)\n",
      "Collecting sortedcontainers\n",
      "  Downloading sortedcontainers-2.4.0-py2.py3-none-any.whl (29 kB)\n",
      "Requirement already satisfied: cffi>=1.14 in c:\\users\\22001471\\python\\python310\\lib\\site-packages (from trio~=0.17->selenium) (1.15.1)\n",
      "Collecting sniffio\n",
      "  Downloading sniffio-1.2.0-py3-none-any.whl (10 kB)\n",
      "Requirement already satisfied: attrs>=19.2.0 in c:\\users\\22001471\\python\\python310\\lib\\site-packages (from trio~=0.17->selenium) (22.1.0)\n",
      "Collecting async-generator>=1.9\n",
      "  Downloading async_generator-1.10-py3-none-any.whl (18 kB)\n",
      "Collecting wsproto>=0.14\n",
      "  Downloading wsproto-1.1.0-py3-none-any.whl (24 kB)\n",
      "Collecting certifi\n",
      "  Downloading certifi-2022.6.15-py3-none-any.whl (160 kB)\n",
      "     -------------------------------------- 160.2/160.2 kB 9.4 MB/s eta 0:00:00\n",
      "Collecting cryptography>=1.3.4\n",
      "  Downloading cryptography-37.0.4-cp36-abi3-win_amd64.whl (2.4 MB)\n",
      "     ---------------------------------------- 2.4/2.4 MB 14.0 MB/s eta 0:00:00\n",
      "Collecting pyOpenSSL>=0.14\n",
      "  Downloading pyOpenSSL-22.0.0-py2.py3-none-any.whl (55 kB)\n",
      "     ---------------------------------------- 55.8/55.8 kB 2.8 MB/s eta 0:00:00\n",
      "Collecting PySocks!=1.5.7,<2.0,>=1.5.6\n",
      "  Downloading PySocks-1.7.1-py3-none-any.whl (16 kB)\n",
      "Requirement already satisfied: pycparser in c:\\users\\22001471\\python\\python310\\lib\\site-packages (from cffi>=1.14->trio~=0.17->selenium) (2.21)\n",
      "Collecting h11<1,>=0.9.0\n",
      "  Downloading h11-0.13.0-py3-none-any.whl (58 kB)\n",
      "     ---------------------------------------- 58.2/58.2 kB 3.0 MB/s eta 0:00:00\n",
      "Installing collected packages: sortedcontainers, urllib3, sniffio, PySocks, outcome, idna, h11, certifi, async-generator, wsproto, trio, cryptography, trio-websocket, pyOpenSSL, selenium\n",
      "Successfully installed PySocks-1.7.1 async-generator-1.10 certifi-2022.6.15 cryptography-37.0.4 h11-0.13.0 idna-3.3 outcome-1.2.0 pyOpenSSL-22.0.0 selenium-4.4.0 sniffio-1.2.0 sortedcontainers-2.4.0 trio-0.21.0 trio-websocket-0.9.2 urllib3-1.26.11 wsproto-1.1.0\n",
      "Note: you may need to restart the kernel to use updated packages.\n"
     ]
    }
   ],
   "source": [
    "pip install selenium"
   ]
  },
  {
   "cell_type": "code",
   "execution_count": 3,
   "id": "75a72029",
   "metadata": {},
   "outputs": [
    {
     "name": "stdout",
     "output_type": "stream",
     "text": [
      "Collecting bs4\n",
      "  Downloading bs4-0.0.1.tar.gz (1.1 kB)\n",
      "  Preparing metadata (setup.py): started\n",
      "  Preparing metadata (setup.py): finished with status 'done'\n",
      "Requirement already satisfied: beautifulsoup4 in c:\\users\\22001471\\python\\python310\\lib\\site-packages (from bs4) (4.11.1)\n",
      "Requirement already satisfied: soupsieve>1.2 in c:\\users\\22001471\\python\\python310\\lib\\site-packages (from beautifulsoup4->bs4) (2.3.2.post1)\n",
      "Using legacy 'setup.py install' for bs4, since package 'wheel' is not installed.\n",
      "Installing collected packages: bs4\n",
      "  Running setup.py install for bs4: started\n",
      "  Running setup.py install for bs4: finished with status 'done'\n",
      "Successfully installed bs4-0.0.1\n",
      "Note: you may need to restart the kernel to use updated packages.\n"
     ]
    }
   ],
   "source": [
    "pip install bs4\n"
   ]
  },
  {
   "cell_type": "code",
   "execution_count": 5,
   "id": "95b9b565",
   "metadata": {},
   "outputs": [
    {
     "name": "stdout",
     "output_type": "stream",
     "text": [
      "Note: you may need to restart the kernel to use updated packages.\n"
     ]
    },
    {
     "name": "stderr",
     "output_type": "stream",
     "text": [
      "ERROR: Could not find a version that satisfies the requirement multiproccessing (from versions: none)\n",
      "ERROR: No matching distribution found for multiproccessing\n"
     ]
    }
   ],
   "source": [
    "pip install multiproccessing"
   ]
  },
  {
   "cell_type": "code",
   "execution_count": 14,
   "id": "7fa8ee9e",
   "metadata": {},
   "outputs": [
    {
     "name": "stdout",
     "output_type": "stream",
     "text": [
      "Collecting requests\n",
      "  Downloading requests-2.28.1-py3-none-any.whl (62 kB)\n",
      "     -------------------------------------- 62.8/62.8 kB 848.4 kB/s eta 0:00:00\n",
      "Requirement already satisfied: idna<4,>=2.5 in c:\\users\\22001471\\python\\python310\\lib\\site-packages (from requests) (3.3)\n",
      "Requirement already satisfied: certifi>=2017.4.17 in c:\\users\\22001471\\python\\python310\\lib\\site-packages (from requests) (2022.6.15)\n",
      "Requirement already satisfied: urllib3<1.27,>=1.21.1 in c:\\users\\22001471\\python\\python310\\lib\\site-packages (from requests) (1.26.11)\n",
      "Collecting charset-normalizer<3,>=2\n",
      "  Downloading charset_normalizer-2.1.0-py3-none-any.whl (39 kB)\n",
      "Installing collected packages: charset-normalizer, requests\n",
      "Successfully installed charset-normalizer-2.1.0 requests-2.28.1\n",
      "Note: you may need to restart the kernel to use updated packages.\n"
     ]
    },
    {
     "name": "stderr",
     "output_type": "stream",
     "text": [
      "  WARNING: The script normalizer.exe is installed in 'C:\\Users\\22001471\\Python\\Python310\\Scripts' which is not on PATH.\n",
      "  Consider adding this directory to PATH or, if you prefer to suppress this warning, use --no-warn-script-location.\n"
     ]
    }
   ],
   "source": [
    "pip install requests"
   ]
  },
  {
   "cell_type": "code",
   "execution_count": 11,
   "id": "41a6c6e1",
   "metadata": {},
   "outputs": [
    {
     "data": {
      "text/plain": [
       "'C:\\\\Users\\\\22001471\\\\Python\\\\Python310\\\\Scripts\\\\Documents'"
      ]
     },
     "execution_count": 11,
     "metadata": {},
     "output_type": "execute_result"
    }
   ],
   "source": [
    "import os\n",
    "os.chdir(\"C:\\\\Users\\\\22001471\\\\Python\\\\Python310\\\\Scripts\\\\Documents\\\\\")\n",
    "os.getcwd()"
   ]
  }
 ],
 "metadata": {
  "kernelspec": {
   "display_name": "Python 3 (ipykernel)",
   "language": "python",
   "name": "python3"
  },
  "language_info": {
   "codemirror_mode": {
    "name": "ipython",
    "version": 3
   },
   "file_extension": ".py",
   "mimetype": "text/x-python",
   "name": "python",
   "nbconvert_exporter": "python",
   "pygments_lexer": "ipython3",
   "version": "3.10.6"
  }
 },
 "nbformat": 4,
 "nbformat_minor": 5
}
